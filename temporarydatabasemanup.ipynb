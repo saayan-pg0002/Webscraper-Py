{
 "cells": [
  {
   "cell_type": "code",
   "execution_count": 13,
   "id": "47008e28-016a-4b4e-a90e-fdea857243bf",
   "metadata": {},
   "outputs": [],
   "source": [
    "import pandas as pd\n",
    "import numpy as np\n",
    "import difflib"
   ]
  },
  {
   "cell_type": "code",
   "execution_count": 14,
   "id": "8f7df881-ceba-4316-a17b-f3078131ecb7",
   "metadata": {},
   "outputs": [],
   "source": [
    "df = pd.read_csv(\"temphtml.txt\",names = [\"URL\"])"
   ]
  },
  {
   "cell_type": "code",
   "execution_count": 28,
   "id": "4224f346-e943-4b98-923e-a257f5ed270b",
   "metadata": {},
   "outputs": [
    {
     "data": {
      "text/plain": [
       "['https://www.yelp.ca//biz/indian-roti-kitchen-vancouver']"
      ]
     },
     "execution_count": 28,
     "metadata": {},
     "output_type": "execute_result"
    }
   ],
   "source": [
    "difflib.get_close_matches(,df['URL'],cutoff = 0.3)"
   ]
  },
  {
   "cell_type": "code",
   "execution_count": null,
   "id": "516323a3-c36d-43db-aa20-f5b291fdc749",
   "metadata": {},
   "outputs": [],
   "source": []
  }
 ],
 "metadata": {
  "kernelspec": {
   "display_name": "Python 3",
   "language": "python",
   "name": "python3"
  },
  "language_info": {
   "codemirror_mode": {
    "name": "ipython",
    "version": 3
   },
   "file_extension": ".py",
   "mimetype": "text/x-python",
   "name": "python",
   "nbconvert_exporter": "python",
   "pygments_lexer": "ipython3",
   "version": "3.8.8"
  }
 },
 "nbformat": 4,
 "nbformat_minor": 5
}
